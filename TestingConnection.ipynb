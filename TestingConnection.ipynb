{
 "cells": [
  {
   "cell_type": "markdown",
   "metadata": {},
   "source": [
    "# Little Lemon Restaurant Management System"
   ]
  },
  {
   "cell_type": "markdown",
   "metadata": {},
   "source": []
  },
  {
   "cell_type": "markdown",
   "metadata": {},
   "source": [
    "Import required library"
   ]
  },
  {
   "cell_type": "code",
   "execution_count": 2,
   "metadata": {},
   "outputs": [],
   "source": [
    "import mysql.connector as connector"
   ]
  },
  {
   "cell_type": "code",
   "execution_count": 3,
   "metadata": {},
   "outputs": [],
   "source": [
    "# Establish connection between Python and MySQL database via connector API\n",
    "connection=connector.connect(\n",
    "                             user=\"root\", # use your own\n",
    "                             password=\"6441532\" # use your own\n",
    "                            )"
   ]
  },
  {
   "cell_type": "code",
   "execution_count": 4,
   "metadata": {},
   "outputs": [],
   "source": [
    "# Create cursor object to communicate with entire MySQL database\n",
    "cursor = connection.cursor()"
   ]
  },
  {
   "cell_type": "markdown",
   "metadata": {},
   "source": [
    "Once, the connection is established, and you have a cursor object, you can select the database `“little_lemon”` and print the names of the tables using the following code: "
   ]
  },
  {
   "cell_type": "code",
   "execution_count": 5,
   "metadata": {},
   "outputs": [
    {
     "name": "stdout",
     "output_type": "stream",
     "text": [
      "Database in use is: littlelemondb\n",
      "\n",
      "The existing tables and views in the littlelemondb database are:\n",
      "('address',)\n",
      "('bookings',)\n",
      "('customers',)\n",
      "('delivery',)\n",
      "('employees',)\n",
      "('menu',)\n",
      "('menu_items',)\n",
      "('orders',)\n",
      "('ordersview',)\n"
     ]
    }
   ],
   "source": [
    "# Setting littlelemondb for use \n",
    "cursor.execute(\"use littlelemondb\")\n",
    "\n",
    "# Confirming\n",
    "print(\"Database in use is:\", connection.database)\n",
    "print()\n",
    "print(\"The existing tables and views in the littlelemondb database are:\")\n",
    "cursor.execute(\"SHOW TABLES\") \n",
    "# Print table names \n",
    "for table in cursor: \n",
    "    print(table)"
   ]
  },
  {
   "cell_type": "markdown",
   "metadata": {},
   "source": [
    "Little Lemon need you to return specific details from your database. They require the full name and contact details for every customer that has placed an order greater than $60 for a promotional campaign"
   ]
  },
  {
   "cell_type": "code",
   "execution_count": 6,
   "metadata": {},
   "outputs": [],
   "source": [
    "s_query = \"\"\"SELECT name \"Full Name\", contactnumber , billamount as TotalCost\n",
    "FROM orders o, bookings b, customers c\n",
    "where b.customerid = c.idcustomers\n",
    "and o.bookingid = idbookings\n",
    "and billamount > 60;\"\"\"\n",
    "\n",
    "cursor.execute(s_query)\n",
    "\n",
    "results = cursor.fetchall()\n"
   ]
  },
  {
   "cell_type": "markdown",
   "metadata": {},
   "source": [
    "Printing resutls"
   ]
  },
  {
   "cell_type": "code",
   "execution_count": 9,
   "metadata": {},
   "outputs": [
    {
     "name": "stdout",
     "output_type": "stream",
     "text": [
      "('Full Name', 'contactnumber', 'TotalCost')\n",
      "('Timon Bush', '9291234567', 4944)\n",
      "('Sacha Carrillo', '3471236547', 3587)\n",
      "('Xavier Tucker', '7878889999', 4543)\n",
      "('Ignatius Cash', '8096454444', 3213)\n",
      "('Timon Bush', '9291234567', 1500)\n",
      "('Sacha Carrillo', '3471236547', 2345)\n"
     ]
    }
   ],
   "source": [
    "# Retrieve column names\n",
    "cols = cursor.column_names\n",
    "print(cols)\n",
    "for i in results:\n",
    "    print(i)"
   ]
  }
 ],
 "metadata": {
  "kernelspec": {
   "display_name": "Python 3",
   "language": "python",
   "name": "python3"
  },
  "language_info": {
   "codemirror_mode": {
    "name": "ipython",
    "version": 3
   },
   "file_extension": ".py",
   "mimetype": "text/x-python",
   "name": "python",
   "nbconvert_exporter": "python",
   "pygments_lexer": "ipython3",
   "version": "3.13.1"
  }
 },
 "nbformat": 4,
 "nbformat_minor": 4
}
